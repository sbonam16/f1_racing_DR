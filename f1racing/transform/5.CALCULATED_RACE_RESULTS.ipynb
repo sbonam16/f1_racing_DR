{
 "cells": [
  {
   "cell_type": "code",
   "execution_count": 0,
   "metadata": {
    "application/vnd.databricks.v1+cell": {
     "cellMetadata": {
      "byteLimit": 2048000,
      "rowLimit": 10000
     },
     "inputWidgets": {},
     "nuid": "4a4ea389-7bf7-4182-8f8d-aca36527a379",
     "showTitle": false,
     "tableResultSettingsMap": {},
     "title": ""
    }
   },
   "outputs": [],
   "source": [
    "dbutils.widgets.text('p_file_date','2021-03-21')\n",
    "v_file_date=dbutils.widgets.get('p_file_date')"
   ]
  },
  {
   "cell_type": "code",
   "execution_count": 0,
   "metadata": {
    "application/vnd.databricks.v1+cell": {
     "cellMetadata": {
      "byteLimit": 2048000,
      "rowLimit": 10000
     },
     "inputWidgets": {},
     "nuid": "818e98c6-6cc5-4740-bec5-3aa3e0382995",
     "showTitle": false,
     "tableResultSettingsMap": {},
     "title": ""
    }
   },
   "outputs": [],
   "source": [
    "print(v_file_date)\n"
   ]
  },
  {
   "cell_type": "code",
   "execution_count": 0,
   "metadata": {
    "application/vnd.databricks.v1+cell": {
     "cellMetadata": {
      "byteLimit": 2048000,
      "rowLimit": 10000
     },
     "inputWidgets": {},
     "nuid": "3d797744-9518-443e-b350-0e9762c7c324",
     "showTitle": false,
     "tableResultSettingsMap": {},
     "title": ""
    }
   },
   "outputs": [],
   "source": [
    "spark.sql(\"\"\"\n",
    "          CREATE TABLE IF NOT EXISTS f1_presentation.calculated_race_results\n",
    "          (\n",
    "              race_year INT,\n",
    "              team_name STRING,\n",
    "              driver_name STRING,\n",
    "              driver_id INT,\n",
    "              race_id INT,\n",
    "              position INT,\n",
    "              points INT,\n",
    "              cal_points INT,\n",
    "              created_date TIMESTAMP,\n",
    "              updated_date TIMESTAMP\n",
    "          )\n",
    "          using delta\n",
    "        \"\"\")\n"
   ]
  },
  {
   "cell_type": "code",
   "execution_count": 0,
   "metadata": {
    "application/vnd.databricks.v1+cell": {
     "cellMetadata": {
      "byteLimit": 2048000,
      "implicitDf": true,
      "rowLimit": 10000
     },
     "inputWidgets": {},
     "nuid": "e33dbaf1-c158-4f05-9034-344519eeb2cf",
     "showTitle": false,
     "tableResultSettingsMap": {},
     "title": ""
    }
   },
   "outputs": [],
   "source": [
    "\n",
    "\n",
    "spark.sql(f\"\"\"\n",
    "CREATE OR REPLACE TEMP VIEW race_result_view AS\n",
    "SELECT\n",
    "    races.race_year,\n",
    "    constructors.name AS team_name,\n",
    "    drivers.name AS driver_name,\n",
    "    drivers.driver_id,\n",
    "    races.race_id,\n",
    "    results.position,\n",
    "    results.points,\n",
    "    11 - results.position AS cal_points\n",
    "FROM f1_processed.results\n",
    "JOIN f1_processed.drivers ON results.driver_id = drivers.driver_id\n",
    "JOIN f1_processed.constructors ON results.constructor_id = constructors.constructor_id\n",
    "JOIN f1_processed.races ON results.race_id = races.race_id\n",
    "WHERE results.position <= 10\n",
    "  AND results.file_date = '{v_file_date}'\n",
    "\"\"\")\n",
    "\n"
   ]
  },
  {
   "cell_type": "code",
   "execution_count": 0,
   "metadata": {
    "application/vnd.databricks.v1+cell": {
     "cellMetadata": {
      "byteLimit": 2048000,
      "implicitDf": true,
      "rowLimit": 10000
     },
     "inputWidgets": {},
     "nuid": "84194b50-1c34-4ce5-b8bc-1c7b1a9ca675",
     "showTitle": false,
     "tableResultSettingsMap": {},
     "title": ""
    }
   },
   "outputs": [],
   "source": [
    "%sql\n",
    "select COUNT(1) FROM race_result_view"
   ]
  },
  {
   "cell_type": "code",
   "execution_count": 0,
   "metadata": {
    "application/vnd.databricks.v1+cell": {
     "cellMetadata": {
      "byteLimit": 2048000,
      "implicitDf": true,
      "rowLimit": 10000
     },
     "inputWidgets": {},
     "nuid": "7031b6df-4a03-436a-95a1-96e54b23a44d",
     "showTitle": false,
     "tableResultSettingsMap": {},
     "title": ""
    }
   },
   "outputs": [],
   "source": [
    "%sql\n",
    "MERGE INTO f1_presentation.calculated_race_results tgt\n",
    "USING race_result_view v\n",
    "ON tgt.race_id = v.race_id AND tgt.driver_id = v.driver_id\n",
    "WHEN MATCHED THEN \n",
    "UPDATE SET \n",
    "    tgt.position = v.position,\n",
    "    tgt.points = v.points,\n",
    "    tgt.cal_points = v.cal_points,\n",
    "    tgt.updated_date = current_timestamp\n",
    "WHEN NOT MATCHED THEN\n",
    "INSERT (\n",
    "    race_year,\n",
    "    team_name,\n",
    "    driver_id,\n",
    "    driver_name,\n",
    "    race_id,\n",
    "    position,\n",
    "    points,\n",
    "    cal_points,\n",
    "    created_date\n",
    ") VALUES (\n",
    "    v.race_year,\n",
    "    v.team_name,\n",
    "    v.driver_id,\n",
    "    v.driver_name,\n",
    "    v.race_id,\n",
    "    v.position,\n",
    "    v.points,\n",
    "    v.cal_points,\n",
    "    current_timestamp\n",
    ")"
   ]
  },
  {
   "cell_type": "code",
   "execution_count": 0,
   "metadata": {
    "application/vnd.databricks.v1+cell": {
     "cellMetadata": {
      "byteLimit": 2048000,
      "implicitDf": true,
      "rowLimit": 10000
     },
     "inputWidgets": {},
     "nuid": "1f8f1f2a-cb86-405a-b5bd-c983f0f5f4c8",
     "showTitle": false,
     "tableResultSettingsMap": {},
     "title": ""
    }
   },
   "outputs": [],
   "source": [
    "%sql\n",
    "select * from f1_presentation.calculated_race_results"
   ]
  }
 ],
 "metadata": {
  "application/vnd.databricks.v1+notebook": {
   "computePreferences": null,
   "dashboards": [],
   "environmentMetadata": {
    "base_environment": "",
    "environment_version": "2"
   },
   "inputWidgetPreferences": null,
   "language": "python",
   "notebookMetadata": {
    "mostRecentlyExecutedCommandWithImplicitDF": {
     "commandId": 3581841959716693,
     "dataframes": [
      "_sqldf"
     ]
    },
    "pythonIndentUnit": 4
   },
   "notebookName": "5.CALCULATED_RACE_RESULTS",
   "widgets": {
    "p_file_date": {
     "currentValue": "2021-04-18",
     "nuid": "f932c6a8-df1d-4ed3-8d8e-21c076452c51",
     "typedWidgetInfo": {
      "autoCreated": false,
      "defaultValue": "2021-03-21",
      "label": null,
      "name": "p_file_date",
      "options": {
       "widgetDisplayType": "Text",
       "validationRegex": null
      },
      "parameterDataType": "String"
     },
     "widgetInfo": {
      "widgetType": "text",
      "defaultValue": "2021-03-21",
      "label": null,
      "name": "p_file_date",
      "options": {
       "widgetType": "text",
       "autoCreated": null,
       "validationRegex": null
      }
     }
    }
   }
  },
  "language_info": {
   "name": "python"
  }
 },
 "nbformat": 4,
 "nbformat_minor": 0
}
