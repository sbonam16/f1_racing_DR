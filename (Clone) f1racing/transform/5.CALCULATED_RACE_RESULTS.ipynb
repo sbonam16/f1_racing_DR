{
 "cells": [
  {
   "cell_type": "code",
   "execution_count": 0,
   "metadata": {
    "application/vnd.databricks.v1+cell": {
     "cellMetadata": {
      "byteLimit": 2048000,
      "rowLimit": 10000
     },
     "inputWidgets": {},
     "nuid": "b40e611c-80a4-4f31-a22e-48e44dda7bbf",
     "showTitle": false,
     "tableResultSettingsMap": {},
     "title": ""
    }
   },
   "outputs": [],
   "source": [
    "use f1_processed;\n"
   ]
  },
  {
   "cell_type": "code",
   "execution_count": 0,
   "metadata": {
    "application/vnd.databricks.v1+cell": {
     "cellMetadata": {
      "byteLimit": 2048000,
      "rowLimit": 10000
     },
     "inputWidgets": {},
     "nuid": "7031b6df-4a03-436a-95a1-96e54b23a44d",
     "showTitle": false,
     "tableResultSettingsMap": {},
     "title": ""
    }
   },
   "outputs": [],
   "source": [
    "CREATE table IF NOT EXISTS f1_presentation.calculated_race_results As\n",
    "select races.race_year,constructors.name as team_name ,drivers.name,results.position,\n",
    "results.points ,\n",
    "11- results.position AS cal_points \n",
    "FROM f1_processed.results \n",
    "JOIN f1_processed.drivers on (results.driver_id = drivers.driver_id)\n",
    "JOIN f1_processed.constructors on (results.constructor_id = constructors.constructor_id)\n",
    "JOIN f1_processed.races on (results.race_id = races.race_id)\n",
    "WHERE results.position<=10;\n"
   ]
  },
  {
   "cell_type": "code",
   "execution_count": 0,
   "metadata": {
    "application/vnd.databricks.v1+cell": {
     "cellMetadata": {
      "byteLimit": 2048000,
      "rowLimit": 10000
     },
     "inputWidgets": {},
     "nuid": "1f8f1f2a-cb86-405a-b5bd-c983f0f5f4c8",
     "showTitle": false,
     "tableResultSettingsMap": {},
     "title": ""
    }
   },
   "outputs": [],
   "source": [
    "select * from f1_presentation.calculated_race_results"
   ]
  }
 ],
 "metadata": {
  "application/vnd.databricks.v1+notebook": {
   "computePreferences": null,
   "dashboards": [],
   "environmentMetadata": {
    "base_environment": "",
    "environment_version": "2"
   },
   "inputWidgetPreferences": null,
   "language": "sql",
   "notebookMetadata": {},
   "notebookName": "5.CALCULATED_RACE_RESULTS",
   "widgets": {}
  },
  "language_info": {
   "name": "sql"
  }
 },
 "nbformat": 4,
 "nbformat_minor": 0
}
