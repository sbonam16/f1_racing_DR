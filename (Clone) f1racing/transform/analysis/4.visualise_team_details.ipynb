{
 "cells": [
  {
   "cell_type": "code",
   "execution_count": 0,
   "metadata": {
    "application/vnd.databricks.v1+cell": {
     "cellMetadata": {
      "byteLimit": 2048000,
      "rowLimit": 10000
     },
     "inputWidgets": {},
     "nuid": "4c0962a2-e02d-41fc-a0b2-df75f14fc4c6",
     "showTitle": false,
     "tableResultSettingsMap": {},
     "title": ""
    }
   },
   "outputs": [],
   "source": [
    "%python\n",
    "html=\"\"\"<h1 style=\"color:red;text-align:center\">Report on dominant formula 1 teams</h1>\"\"\"\n",
    "displayHTML(html);"
   ]
  },
  {
   "cell_type": "code",
   "execution_count": 0,
   "metadata": {
    "application/vnd.databricks.v1+cell": {
     "cellMetadata": {
      "byteLimit": 2048000,
      "rowLimit": 10000
     },
     "inputWidgets": {},
     "nuid": "c24c43dd-a4ba-4fda-b495-71f42b667250",
     "showTitle": false,
     "tableResultSettingsMap": {},
     "title": ""
    }
   },
   "outputs": [],
   "source": [
    "CREATE OR REPLACE TEMP VIEW v_dominant_teams  AS\n",
    "SELECT team_name ,COUNT(1) AS total_races ,sum(cal_points) AS total_points,\n",
    "AVG(cal_points) AS avg_points,\n",
    "RANK() OVER(ORDER BY avg(cal_points) DESC) AS team_rank\n",
    " from f1_presentation.calculated_race_results\n",
    " GROUP BY team_name\n",
    " HAVING count(1) > 100\n",
    " ORDER BY avg_points DESC;"
   ]
  },
  {
   "cell_type": "code",
   "execution_count": 0,
   "metadata": {
    "application/vnd.databricks.v1+cell": {
     "cellMetadata": {
      "byteLimit": 2048000,
      "rowLimit": 10000
     },
     "inputWidgets": {},
     "nuid": "fd38ef76-30d0-437f-b314-9d891ada64e6",
     "showTitle": false,
     "tableResultSettingsMap": {},
     "title": ""
    }
   },
   "outputs": [
    {
     "output_type": "display_data",
     "data": {
      "text/plain": [
       "Databricks visualization. Run in Databricks to view."
      ]
     },
     "metadata": {
      "application/vnd.databricks.v1.subcommand+json": {
       "baseErrorDetails": null,
       "bindings": {},
       "collapsed": false,
       "command": "%sql WITH q AS (SELECT race_year, team_name ,COUNT(1) AS total_races ,sum(cal_points) AS total_points,\nAVG(cal_points) AS avg_points\n from f1_presentation.calculated_race_results\n WHERE team_name IN (select team_name from v_dominant_teams WHERE team_rank<=5)\n GROUP BY team_name, race_year \n ORDER BY race_year,avg_points DESC) SELECT `race_year`,SUM(`avg_points`) `column_710face3193`,`team_name` FROM q GROUP BY `race_year`,`team_name`",
       "commandTitle": "Visualization 1",
       "commandType": "auto",
       "commandVersion": 0,
       "commentThread": [],
       "commentsVisible": false,
       "contentSha256Hex": null,
       "customPlotOptions": {
        "redashChart": [
         {
          "key": "type",
          "value": "CHART"
         },
         {
          "key": "options",
          "value": {
           "alignYAxesAtZero": true,
           "coefficient": 1,
           "columnConfigurationMap": {
            "series": {
             "column": "team_name",
             "id": "column_710face3195"
            },
            "x": {
             "column": "race_year",
             "id": "column_710face3191"
            },
            "y": [
             {
              "column": "avg_points",
              "id": "column_710face3193",
              "transform": "SUM"
             }
            ]
           },
           "dateTimeFormat": "DD/MM/YYYY HH:mm",
           "direction": {
            "type": "counterclockwise"
           },
           "error_y": {
            "type": "data",
            "visible": true
           },
           "globalSeriesType": "line",
           "isAggregationOn": true,
           "legend": {
            "traceorder": "normal"
           },
           "missingValuesAsZero": true,
           "numberFormat": "0,0.[00000]",
           "percentFormat": "0[.]00%",
           "series": {
            "error_y": {
             "type": "data",
             "visible": true
            },
            "stacking": null
           },
           "seriesOptions": {
            "column_710face3193": {
             "type": "line",
             "yAxis": 0
            }
           },
           "showDataLabels": false,
           "sizemode": "diameter",
           "sortX": true,
           "sortY": true,
           "swappedAxes": false,
           "textFormat": "",
           "useAggregationsUi": true,
           "valuesOptions": {},
           "version": 2,
           "xAxis": {
            "labels": {
             "enabled": true
            },
            "type": "-"
           },
           "yAxis": [
            {
             "type": "-"
            },
            {
             "opposite": true,
             "type": "-"
            }
           ]
          }
         }
        ]
       },
       "datasetPreviewNameToCmdIdMap": {},
       "diffDeletes": [],
       "diffInserts": [],
       "displayType": "redashChart",
       "error": null,
       "errorDetails": null,
       "errorSummary": null,
       "errorTraceType": null,
       "finishTime": 0,
       "globalVars": {},
       "guid": "",
       "height": "auto",
       "hideCommandCode": false,
       "hideCommandResult": false,
       "iPythonMetadata": null,
       "inputWidgets": {},
       "isLockedInExamMode": false,
       "latestUser": "a user",
       "latestUserId": null,
       "listResultMetadata": null,
       "metadata": {
        "byteLimit": 2048000,
        "rowLimit": 10000
       },
       "nuid": "0c5a42cd-ed2d-43c3-892d-93c7c782f717",
       "origId": 0,
       "parentHierarchy": [],
       "pivotAggregation": null,
       "pivotColumns": null,
       "position": 2.0,
       "resultDbfsErrorMessage": null,
       "resultDbfsStatus": "INLINED_IN_TREE",
       "results": null,
       "showCommandTitle": false,
       "startTime": 0,
       "state": "input",
       "streamStates": {},
       "subcommandOptions": {
        "queryPlan": {
         "groups": [
          {
           "column": "race_year",
           "type": "column"
          },
          {
           "column": "team_name",
           "type": "column"
          }
         ],
         "selects": [
          {
           "column": "race_year",
           "type": "column"
          },
          {
           "alias": "column_710face3193",
           "args": [
            {
             "column": "avg_points",
             "type": "column"
            }
           ],
           "function": "SUM",
           "type": "function"
          },
          {
           "column": "team_name",
           "type": "column"
          }
         ]
        }
       },
       "submitTime": 0,
       "subtype": "tableResultSubCmd.visualization",
       "tableResultIndex": 0,
       "tableResultSettingsMap": {},
       "useConsistentColors": false,
       "version": "CommandV1",
       "width": "auto",
       "workflows": null,
       "xColumns": null,
       "yColumns": null
      }
     },
     "output_type": "display_data"
    }
   ],
   "source": [
    "SELECT race_year, team_name ,COUNT(1) AS total_races ,sum(cal_points) AS total_points,\n",
    "AVG(cal_points) AS avg_points\n",
    " from f1_presentation.calculated_race_results\n",
    " WHERE team_name IN (select team_name from v_dominant_teams WHERE team_rank<=5)\n",
    " GROUP BY team_name, race_year \n",
    " ORDER BY race_year,avg_points DESC;"
   ]
  }
 ],
 "metadata": {
  "application/vnd.databricks.v1+notebook": {
   "computePreferences": null,
   "dashboards": [
    {
     "elements": [
      {
       "dashboardResultIndex": null,
       "elementNUID": "0c5a42cd-ed2d-43c3-892d-93c7c782f717",
       "elementType": "command",
       "guid": "5f01d13a-0c31-430e-bab5-2fbc980f576d",
       "options": {
        "autoScaleImg": false,
        "scale": 0,
        "showRunButton": true,
        "showTitle": true,
        "title": "dominant teams",
        "titleAlign": "center"
       },
       "position": {
        "height": 6,
        "width": 12,
        "x": 0,
        "y": 12,
        "z": null
       },
       "resultIndex": null
      },
      {
       "dashboardResultIndex": null,
       "elementNUID": "fd38ef76-30d0-437f-b314-9d891ada64e6",
       "elementType": "command",
       "guid": "80ea7764-c1e6-44c9-a50f-6213654da585",
       "options": null,
       "position": {
        "height": 6,
        "width": 12,
        "x": 0,
        "y": 6,
        "z": null
       },
       "resultIndex": null
      },
      {
       "dashboardResultIndex": null,
       "elementNUID": "4c0962a2-e02d-41fc-a0b2-df75f14fc4c6",
       "elementType": "command",
       "guid": "e970f0a0-28c3-4922-9098-bffb41a52c3f",
       "options": null,
       "position": {
        "height": 6,
        "width": 12,
        "x": 0,
        "y": 0,
        "z": null
       },
       "resultIndex": null
      }
     ],
     "globalVars": {},
     "guid": "",
     "layoutOption": {
      "grid": true,
      "stack": true
     },
     "nuid": "440c29fd-92f9-4ffc-a887-c97bf9a1cc44",
     "origId": 3581841959716706,
     "title": "Untitled",
     "version": "DashboardViewV1",
     "width": 1024
    }
   ],
   "environmentMetadata": {
    "base_environment": "",
    "environment_version": "2"
   },
   "inputWidgetPreferences": null,
   "language": "sql",
   "notebookMetadata": {
    "pythonIndentUnit": 4
   },
   "notebookName": "4.visualise_team_details",
   "widgets": {}
  },
  "language_info": {
   "name": "sql"
  }
 },
 "nbformat": 4,
 "nbformat_minor": 0
}
